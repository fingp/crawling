{
 "cells": [
  {
   "cell_type": "code",
   "execution_count": null,
   "metadata": {},
   "outputs": [],
   "source": [
    "class_list=['SWCON22100',\n",
    " 'CSE33200',\n",
    " 'AMTH100112',\n",
    " 'SWCON30200',\n",
    " 'CSE43700',\n",
    " 'CSE40609',\n",
    " 'CSE20302']"
   ]
  },
  {
   "cell_type": "code",
   "execution_count": null,
   "metadata": {},
   "outputs": [],
   "source": [
    "import time\n",
    "import requests"
   ]
  },
  {
   "cell_type": "code",
   "execution_count": null,
   "metadata": {},
   "outputs": [],
   "source": [
    "from selenium import webdriver\n",
    "from bs4 import BeautifulSoup\n",
    "import pandas as pd\n",
    "\n",
    "import numpy as np\n",
    "\n",
    "import platform\n",
    "file_path='./datas/'\n",
    "file_name=file_path+'chromedriver_'+platform.system().lower()"
   ]
  },
  {
   "cell_type": "code",
   "execution_count": null,
   "metadata": {},
   "outputs": [],
   "source": [
    "options = webdriver.ChromeOptions ()\n",
    "options.add_argument('headless')\n",
    "options.add_argument('window-size=1920x1080')\n",
    "options.add_argument(\"disable-gpu\")\n",
    "chrome_driver=webdriver.Chrome(file_name,chrome_options=options)\n",
    "chrome_driver.implicitly_wait(3)"
   ]
  },
  {
   "cell_type": "code",
   "execution_count": null,
   "metadata": {
    "scrolled": true
   },
   "outputs": [],
   "source": [
    "id_=input(\"id : \")\n",
    "pw_=input(\"pw : \")"
   ]
  },
  {
   "cell_type": "code",
   "execution_count": null,
   "metadata": {},
   "outputs": [],
   "source": [
    "LOGIN_INFO = [\n",
    "    id_,\n",
    "    pw_\n",
    "]"
   ]
  },
  {
   "cell_type": "code",
   "execution_count": null,
   "metadata": {},
   "outputs": [],
   "source": [
    "chrome_driver.get('https://klas.khu.ac.kr/main/viewMainIndex.do')"
   ]
  },
  {
   "cell_type": "code",
   "execution_count": null,
   "metadata": {},
   "outputs": [],
   "source": [
    "chrome_driver.find_element_by_name(\"USER_ID\").send_keys(LOGIN_INFO[0])\n",
    "chrome_driver.find_element_by_name('PASSWORD').send_keys(LOGIN_INFO[1])"
   ]
  },
  {
   "cell_type": "code",
   "execution_count": null,
   "metadata": {},
   "outputs": [],
   "source": [
    "chrome_driver.find_element_by_xpath('/html/body/div[2]/div[2]/div[1]/form/div[1]/div[2]/a/img').click()"
   ]
  },
  {
   "cell_type": "code",
   "execution_count": null,
   "metadata": {},
   "outputs": [],
   "source": [
    "html = chrome_driver.page_source\n",
    "soup = BeautifulSoup(html,'html.parser')\n",
    "def login_sucess () :\n",
    "    login_status=[]\n",
    "    login_status.extend(soup.select('#ui-dialog-title-MESSAGE_BOX'))\n",
    "    login_status.extend(soup.select('#a'))\n",
    "    if len(login_status)>0:\n",
    "        if soup.select('#ui-dialog-title-MESSAGE_BOX')[0].text=='로그인 에러':\n",
    "            print(\"로그인 실패\")\n",
    "    else :\n",
    "        print (\"로그인 성공\")\n",
    "login_sucess()"
   ]
  },
  {
   "cell_type": "code",
   "execution_count": null,
   "metadata": {},
   "outputs": [],
   "source": [
    "temp=np.char.array('https://klas.khu.ac.kr/course/viewCourseClassroom.do?COURSE_ID=2018_20_')\n",
    "class_arr=np.array(class_list)\n",
    "class_link=temp+class_arr"
   ]
  },
  {
   "cell_type": "code",
   "execution_count": null,
   "metadata": {},
   "outputs": [],
   "source": [
    "start_time = time.time() "
   ]
  },
  {
   "cell_type": "code",
   "execution_count": null,
   "metadata": {},
   "outputs": [],
   "source": [
    "result_list=[]\n",
    "online_list=[]\n",
    "temp_str=''\n",
    "temp_str2=''\n",
    "for i in class_link:\n",
    "    chrome_driver.get(i)\n",
    "    html = chrome_driver.page_source\n",
    "    soup = BeautifulSoup(html,'html.parser')\n",
    "    for th in soup.find_all('div',attrs={'class':'mycl_cont_info'}):\n",
    "        if th.find('div',attrs={'class':'mycl_cont_top'}).text.strip() == \"과제\" :\n",
    "            for temp in th.find_all('div',attrs={'class':['mycl_cont_mid','mycl_cont_bot']}) :\n",
    "                temp_str+=temp.text.strip()\n",
    "                if(temp.select('div')[0].has_attr('id')) :\n",
    "                    temp_str+='\\n'+temp.select('div')[0]['id']\n",
    "                    result_list.append(temp_str)\n",
    "                    temp_str=''\n",
    "        elif th.find('div',attrs={'class':'mycl_cont_top'}).text.strip() == \"강의자료\" : \n",
    "            for temp in th.find_all('div',attrs={'class':['mycl_cont_mid','mycl_cont_bot']}) :\n",
    "                temp_str2+=temp.text.strip()\n",
    "                if(temp.select('div')[0].has_attr('id')) :\n",
    "                    temp_str2+='\\n'+temp.select('div')[0]['id']\n",
    "                    if (temp.select('div')[0].find('a')) :\n",
    "                        temp_str2+='\\n'+temp.select('div')[0].find('a').attrs['href']\n",
    "                        online_list.append(temp_str2)\n",
    "                        temp_str2=''                     \n",
    "                    \n",
    "                    "
   ]
  },
  {
   "cell_type": "code",
   "execution_count": null,
   "metadata": {},
   "outputs": [],
   "source": [
    "print(\"--- %s seconds ---\" %(time.time() - start_time))\n",
    "start_time = time.time() "
   ]
  },
  {
   "cell_type": "code",
   "execution_count": null,
   "metadata": {},
   "outputs": [],
   "source": [
    "result_list=[]\n",
    "online_list=[]\n",
    "temp_str=''\n",
    "temp_str2=''\n",
    "for i in class_link:\n",
    "    req = requests.get(i)\n",
    "    html = req.text\n",
    "    soup = BeautifulSoup(html,'html.parser')\n",
    "    for th in soup.find_all('div',attrs={'class':'mycl_cont_info'}):\n",
    "        if th.find('div',attrs={'class':'mycl_cont_top'}).text.strip() == \"과제\" :\n",
    "            for temp in th.find_all('div',attrs={'class':['mycl_cont_mid','mycl_cont_bot']}) :\n",
    "                temp_str+=temp.text.strip()\n",
    "                if(temp.select('div')[0].has_attr('id')) :\n",
    "                    temp_str+='\\n'+temp.select('div')[0]['id']\n",
    "                    result_list.append(temp_str)\n",
    "                    temp_str=''\n",
    "        elif th.find('div',attrs={'class':'mycl_cont_top'}).text.strip() == \"강의자료\" : \n",
    "            for temp in th.find_all('div',attrs={'class':['mycl_cont_mid','mycl_cont_bot']}) :\n",
    "                temp_str2+=temp.text.strip()\n",
    "                if(temp.select('div')[0].has_attr('id')) :\n",
    "                    temp_str2+='\\n'+temp.select('div')[0]['id']\n",
    "                    if (temp.select('div')[0].find('a')) :\n",
    "                        temp_str2+='\\n'+temp.select('div')[0].find('a').attrs['href']\n",
    "                        online_list.append(temp_str2)\n",
    "                        temp_str2=''                     \n",
    "                    \n",
    "                    "
   ]
  },
  {
   "cell_type": "code",
   "execution_count": null,
   "metadata": {},
   "outputs": [],
   "source": [
    "online_list"
   ]
  },
  {
   "cell_type": "code",
   "execution_count": null,
   "metadata": {},
   "outputs": [],
   "source": [
    "print(\"--- %s seconds ---\" %(time.time() - start_time))"
   ]
  },
  {
   "cell_type": "code",
   "execution_count": null,
   "metadata": {},
   "outputs": [],
   "source": []
  },
  {
   "cell_type": "code",
   "execution_count": null,
   "metadata": {},
   "outputs": [],
   "source": []
  },
  {
   "cell_type": "code",
   "execution_count": null,
   "metadata": {},
   "outputs": [],
   "source": [
    "#chrome_driver.quit();"
   ]
  },
  {
   "cell_type": "code",
   "execution_count": null,
   "metadata": {},
   "outputs": [],
   "source": []
  }
 ],
 "metadata": {
  "kernelspec": {
   "display_name": "Python 3",
   "language": "python",
   "name": "python3"
  },
  "language_info": {
   "codemirror_mode": {
    "name": "ipython",
    "version": 3
   },
   "file_extension": ".py",
   "mimetype": "text/x-python",
   "name": "python",
   "nbconvert_exporter": "python",
   "pygments_lexer": "ipython3",
   "version": "3.6.5"
  },
  "toc": {
   "base_numbering": 1,
   "nav_menu": {},
   "number_sections": true,
   "sideBar": true,
   "skip_h1_title": false,
   "title_cell": "Table of Contents",
   "title_sidebar": "Contents",
   "toc_cell": false,
   "toc_position": {},
   "toc_section_display": true,
   "toc_window_display": false
  },
  "varInspector": {
   "cols": {
    "lenName": 16,
    "lenType": 16,
    "lenVar": 40
   },
   "kernels_config": {
    "python": {
     "delete_cmd_postfix": "",
     "delete_cmd_prefix": "del ",
     "library": "var_list.py",
     "varRefreshCmd": "print(var_dic_list())"
    },
    "r": {
     "delete_cmd_postfix": ") ",
     "delete_cmd_prefix": "rm(",
     "library": "var_list.r",
     "varRefreshCmd": "cat(var_dic_list()) "
    }
   },
   "types_to_exclude": [
    "module",
    "function",
    "builtin_function_or_method",
    "instance",
    "_Feature"
   ],
   "window_display": false
  }
 },
 "nbformat": 4,
 "nbformat_minor": 2
}
