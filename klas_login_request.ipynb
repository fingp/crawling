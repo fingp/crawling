{
 "cells": [
  {
   "cell_type": "code",
   "execution_count": 1,
   "metadata": {},
   "outputs": [],
   "source": [
    "import time\n",
    "import requests"
   ]
  },
  {
   "cell_type": "code",
   "execution_count": 2,
   "metadata": {},
   "outputs": [],
   "source": [
    "from bs4 import BeautifulSoup"
   ]
  },
  {
   "cell_type": "code",
   "execution_count": null,
   "metadata": {},
   "outputs": [],
   "source": [
    "id_=input(\"id : \")\n",
    "pw_=input(\"pw : \")"
   ]
  },
  {
   "cell_type": "code",
   "execution_count": 53,
   "metadata": {},
   "outputs": [],
   "source": [
    "LOGIN_INFO = {\n",
    "    'USER_ID' : id_,\n",
    "    'PASSWORD':pw_\n",
    "        }"
   ]
  },
  {
   "cell_type": "code",
   "execution_count": 58,
   "metadata": {},
   "outputs": [
    {
     "name": "stdout",
     "output_type": "stream",
     "text": [
      "200\n",
      "로그인성공\n",
      "--- 2.197169542312622 seconds ---\n"
     ]
    }
   ],
   "source": [
    "start_time = time.time() \n",
    "with requests.Session() as s:\n",
    "    login_req = s.post('https://klas.khu.ac.kr/user/loginUser.do', data=LOGIN_INFO)\n",
    "    # 어떤 결과가 나올까요? (200이면 성공!)\n",
    "    print(login_req.status_code)\n",
    "    if login_req.status_code != 200:\n",
    "        raise Exception('페이지 로딩 실패'+str(login_req.status_code))\n",
    "    if len(s.cookies) == 1:\n",
    "        raise Exception('로그인 실패')\n",
    "    else :\n",
    "        print(\"로그인성공\")\n",
    "    req=s.get('https://klas.khu.ac.kr/classroom/viewClassroomCourseMoreList.do?courseType=ing')\n",
    "    html = req.text\n",
    "    soup = BeautifulSoup(html,'html.parser')\n",
    "    class_list=[]\n",
    "    table_body=soup.find('tbody')\n",
    "    rows = table_body.find_all('tr')\n",
    "    if rows[0].text.strip()!=\"데이터가 존재하지 않습니다.\" :\n",
    "        for row in rows:\n",
    "            class_list.append(row.find_all('td')[1].text.strip().split('[')[1].split(']')[0])\n",
    "print(\"--- %s seconds ---\" %(time.time() - start_time))            "
   ]
  },
  {
   "cell_type": "code",
   "execution_count": 56,
   "metadata": {},
   "outputs": [
    {
     "data": {
      "text/plain": [
       "['SWCON22100',\n",
       " 'CSE33200',\n",
       " 'AMTH100112',\n",
       " 'SWCON30200',\n",
       " 'CSE43700',\n",
       " 'CSE40609',\n",
       " 'CSE20302']"
      ]
     },
     "execution_count": 56,
     "metadata": {},
     "output_type": "execute_result"
    }
   ],
   "source": [
    "class_list"
   ]
  },
  {
   "cell_type": "code",
   "execution_count": 48,
   "metadata": {},
   "outputs": [
    {
     "name": "stdout",
     "output_type": "stream",
     "text": [
      "200\n",
      "<RequestsCookieJar[<Cookie _SSO_Global_Logout_url=get%5Ehttps%3A%2F%2Fklas.khu.ac.kr%2Fuser%2FlogoutUser.do%24 for .khu.ac.kr/>, <Cookie LMS_JSESSIONID=fGTvbyTVbK3TT1njCbvQRJQ6Zl50GTXvFjFLllhr5rQQJJmnM9xY!393133921!-1548459818!7001!-1 for klas.khu.ac.kr/>, <Cookie JSESSIONID=BemjuSfQtbt47h8eSbhk7DdHiNJqaOTel8NjGJyaQLaCJPSC0A61F3GzQ69TNcpI.amV1c19kb21haW4vc3NvMQ== for sso.khu.ac.kr/sso>]>\n"
     ]
    }
   ],
   "source": [
    "with requests.Session() as s2:\n",
    "    login_req = s2.post('https://klas.khu.ac.kr/user/loginUser.do', data=LOGIN_INFO)\n",
    "    # 어떤 결과가 나올까요? (200이면 성공!)\n",
    "    print(login_req.status_code)\n",
    "    if login_req.status_code != 200:\n",
    "        raise Exception('로그인 실패')\n",
    "    print(s2.cookies)"
   ]
  },
  {
   "cell_type": "code",
   "execution_count": 38,
   "metadata": {},
   "outputs": [
    {
     "data": {
      "text/plain": [
       "1"
      ]
     },
     "execution_count": 38,
     "metadata": {},
     "output_type": "execute_result"
    }
   ],
   "source": [
    "len(s2.cookies)"
   ]
  },
  {
   "cell_type": "code",
   "execution_count": 32,
   "metadata": {},
   "outputs": [
    {
     "data": {
      "text/plain": [
       "3"
      ]
     },
     "execution_count": 32,
     "metadata": {},
     "output_type": "execute_result"
    }
   ],
   "source": [
    "len(s.cookies)"
   ]
  },
  {
   "cell_type": "code",
   "execution_count": null,
   "metadata": {},
   "outputs": [],
   "source": []
  }
 ],
 "metadata": {
  "kernelspec": {
   "display_name": "Python 3",
   "language": "python",
   "name": "python3"
  },
  "language_info": {
   "codemirror_mode": {
    "name": "ipython",
    "version": 3
   },
   "file_extension": ".py",
   "mimetype": "text/x-python",
   "name": "python",
   "nbconvert_exporter": "python",
   "pygments_lexer": "ipython3",
   "version": "3.6.5"
  },
  "toc": {
   "base_numbering": 1,
   "nav_menu": {},
   "number_sections": true,
   "sideBar": true,
   "skip_h1_title": false,
   "title_cell": "Table of Contents",
   "title_sidebar": "Contents",
   "toc_cell": false,
   "toc_position": {},
   "toc_section_display": true,
   "toc_window_display": false
  },
  "varInspector": {
   "cols": {
    "lenName": 16,
    "lenType": 16,
    "lenVar": 40
   },
   "kernels_config": {
    "python": {
     "delete_cmd_postfix": "",
     "delete_cmd_prefix": "del ",
     "library": "var_list.py",
     "varRefreshCmd": "print(var_dic_list())"
    },
    "r": {
     "delete_cmd_postfix": ") ",
     "delete_cmd_prefix": "rm(",
     "library": "var_list.r",
     "varRefreshCmd": "cat(var_dic_list()) "
    }
   },
   "types_to_exclude": [
    "module",
    "function",
    "builtin_function_or_method",
    "instance",
    "_Feature"
   ],
   "window_display": false
  }
 },
 "nbformat": 4,
 "nbformat_minor": 2
}
