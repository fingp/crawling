{
 "cells": [
  {
   "cell_type": "code",
   "execution_count": 1,
   "metadata": {},
   "outputs": [],
   "source": [
    "class_list=['SWCON22100',\n",
    " 'CSE33200',\n",
    " 'AMTH100112',\n",
    " 'SWCON30200',\n",
    " 'CSE43700',\n",
    " 'CSE40609',\n",
    " 'CSE20302']"
   ]
  },
  {
   "cell_type": "code",
   "execution_count": 2,
   "metadata": {},
   "outputs": [],
   "source": [
    "import time\n",
    "import requests"
   ]
  },
  {
   "cell_type": "code",
   "execution_count": 3,
   "metadata": {},
   "outputs": [],
   "source": [
    "from bs4 import BeautifulSoup\n",
    "import pandas as pd\n",
    "\n",
    "import numpy as np\n"
   ]
  },
  {
   "cell_type": "code",
   "execution_count": null,
   "metadata": {
    "scrolled": true
   },
   "outputs": [],
   "source": [
    "id_=input(\"id : \")\n",
    "pw_=input(\"pw : \")"
   ]
  },
  {
   "cell_type": "code",
   "execution_count": 8,
   "metadata": {},
   "outputs": [],
   "source": [
    "LOGIN_INFO = {\n",
    "    'USER_ID' : id_,\n",
    "    'PASSWORD':pw_\n",
    "        }"
   ]
  },
  {
   "cell_type": "code",
   "execution_count": 15,
   "metadata": {},
   "outputs": [],
   "source": [
    "temp=np.char.array('https://klas.khu.ac.kr/course/viewCourseClassroom.do?COURSE_ID=2018_20_')\n",
    "class_arr=np.array(class_list)\n",
    "class_link=temp+class_arr"
   ]
  },
  {
   "cell_type": "code",
   "execution_count": 20,
   "metadata": {},
   "outputs": [
    {
     "data": {
      "text/plain": [
       "chararray(['https://klas.khu.ac.kr/course/viewCourseClassroom.do?COURSE_ID=2018_20_SWCON22100',\n",
       "           'https://klas.khu.ac.kr/course/viewCourseClassroom.do?COURSE_ID=2018_20_CSE33200',\n",
       "           'https://klas.khu.ac.kr/course/viewCourseClassroom.do?COURSE_ID=2018_20_AMTH100112',\n",
       "           'https://klas.khu.ac.kr/course/viewCourseClassroom.do?COURSE_ID=2018_20_SWCON30200',\n",
       "           'https://klas.khu.ac.kr/course/viewCourseClassroom.do?COURSE_ID=2018_20_CSE43700',\n",
       "           'https://klas.khu.ac.kr/course/viewCourseClassroom.do?COURSE_ID=2018_20_CSE40609',\n",
       "           'https://klas.khu.ac.kr/course/viewCourseClassroom.do?COURSE_ID=2018_20_CSE20302'],\n",
       "          dtype='<U81')"
      ]
     },
     "execution_count": 20,
     "metadata": {},
     "output_type": "execute_result"
    }
   ],
   "source": [
    "class_link"
   ]
  },
  {
   "cell_type": "code",
   "execution_count": 21,
   "metadata": {},
   "outputs": [
    {
     "name": "stdout",
     "output_type": "stream",
     "text": [
      "200\n",
      "--- 4.871805429458618 seconds ---\n"
     ]
    }
   ],
   "source": [
    "with requests.Session() as s:\n",
    "    login_req = s.post('https://klas.khu.ac.kr/user/loginUser.do', data=LOGIN_INFO)\n",
    "    # 어떤 결과가 나올까요? (200이면 성공!)\n",
    "    print(login_req.status_code)\n",
    "    if login_req.status_code != 200:\n",
    "        raise Exception('로그인이 되지 않았어요! 아이디와 비밀번호를 다시한번 확인해 주세요.')\n",
    "    result_list=[]\n",
    "    online_list=[]\n",
    "    temp_str=''\n",
    "    temp_str2=''\n",
    "    start_time = time.time() \n",
    "    for i in class_link:\n",
    "        req = s.get(i)\n",
    "        html = req.text\n",
    "        soup = BeautifulSoup(html,'html.parser')\n",
    "        for th in soup.find_all('div',attrs={'class':'mycl_cont_info'}):\n",
    "            if th.find('div',attrs={'class':'mycl_cont_top'}).text.strip() == \"과제\" :\n",
    "                for temp in th.find_all('div',attrs={'class':['mycl_cont_mid','mycl_cont_bot']}) :\n",
    "                    temp_str+=temp.text.strip()\n",
    "                    if(temp.select('div')[0].has_attr('id')) :\n",
    "                        temp_str+='\\n'+temp.select('div')[0]['id']\n",
    "                        result_list.append(temp_str)\n",
    "                        temp_str=''\n",
    "            elif th.find('div',attrs={'class':'mycl_cont_top'}).text.strip() == \"강의자료\" : \n",
    "                for temp in th.find_all('div',attrs={'class':['mycl_cont_mid','mycl_cont_bot']}) :\n",
    "                    temp_str2+=temp.text.strip()\n",
    "                    if(temp.select('div')[0].has_attr('id')) :\n",
    "                        temp_str2+='\\n'+temp.select('div')[0]['id']\n",
    "                        if (temp.select('div')[0].find('a')) :\n",
    "                            temp_str2+='\\n'+temp.select('div')[0].find('a').attrs['href']\n",
    "                            online_list.append(temp_str2)\n",
    "                            temp_str2=''                     \n",
    "    print(\"--- %s seconds ---\" %(time.time() - start_time))"
   ]
  },
  {
   "cell_type": "code",
   "execution_count": 22,
   "metadata": {},
   "outputs": [
    {
     "data": {
      "text/plain": [
       "['Overview\\n기간:기간없음\\n※등록된 강의동영상이 없습니다.\\n\\n\\n\\n\\n\\n댓글(0)180903-wk-1-1-DCP-PDF.pdf\\nfile_LES_180903214114a5b24d29\\n../common/downloadFile.do?fileId=FIL_180904190212a59d2f9a',\n",
       " 'Cloud Computing and Infrastructure\\n기간:기간없음\\n권장학습시간:0분\\n\\r\\n\\t\\t\\t\\t\\t\\t\\t\\t\\t\\t\\t\\t\\t\\t\\t학습시간(중/후):0초/0초\\r\\n\\t\\t\\t\\t\\t\\t\\t\\t\\t\\t\\t\\t\\t\\t\\n \\n \\n \\n\\n\\n\\n\\n\\n댓글(0)180905-wk-1-2-DCP-PDF.pdf\\nfile_LES_18090520314880e93ec9\\n../common/downloadFile.do?fileId=FIL_1809091601338cdd5e33',\n",
       " 'Virtualization & container technology 1\\n기간:기간없음\\n※등록된 강의동영상이 없습니다.\\n\\n\\n\\n\\n\\n댓글(0)180910-lecture03-DCP-PDF.pdf\\nfile_LES_180910235201a92c2256\\n../common/downloadFile.do?fileId=FIL_180910235440a92c22bd',\n",
       " 'Virtualization & container technology 2\\n기간:기간없음\\n※등록된 강의동영상이 없습니다.\\n\\n\\n\\n\\n\\n댓글(0)180912-lecture04-DCP-PDF.pdf\\nfile_LES_180912204531896e14b9\\n../common/downloadFile.do?fileId=FIL_180912204605896e14d5',\n",
       " 'Install & Basic Commands\\n기간:기간없음\\n※등록된 강의동영상이 없습니다.\\n\\n\\n\\n\\n\\n댓글(0)180919-lecture06-DCP-PDF.pdf\\nfile_LES_180919125500145237c8\\n../common/downloadFile.do?fileId=FIL_180919192936f0c6068c',\n",
       " 'Docker Introductions\\n기간:기간없음\\n※등록된 강의동영상이 없습니다.\\n\\n\\n\\n\\n\\n댓글(0)180917-lecture05-DCP-PDF-v1.1.pdf\\nfile_LES_1809171244368ace0f5f\\n../common/downloadFile.do?fileId=FIL_1809171555578ace43e9',\n",
       " 'Introduction to Linux/Unix\\n기간:기간없음\\n권장학습시간:0분\\n\\r\\n\\t\\t\\t\\t\\t\\t\\t\\t\\t\\t\\t\\t\\t\\t\\t학습시간(중/후):0초/0초\\r\\n\\t\\t\\t\\t\\t\\t\\t\\t\\t\\t\\t\\t\\t\\t\\n \\n \\n \\n\\n\\n\\n\\n\\n댓글(0)lsp-01-intro.pdf\\nfile_LES_1809051059304df26c3f\\n../common/downloadFile.do?fileId=FIL_1809051059304df26c6d',\n",
       " 'Getting Started with Linux/Unix\\n기간:기간없음\\n권장학습시간:0분\\n\\r\\n\\t\\t\\t\\t\\t\\t\\t\\t\\t\\t\\t\\t\\t\\t\\t학습시간(중/후):0초/0초\\r\\n\\t\\t\\t\\t\\t\\t\\t\\t\\t\\t\\t\\t\\t\\t\\n \\n \\n \\n\\n\\n\\n\\n\\n댓글(0)lsp-02-usage.pdf\\nfile_LES_1809051059304df26c42\\n../common/downloadFile.do?fileId=FIL_1809051059304df26c6f',\n",
       " 'Development Tools in Linux/Unix\\n기간:기간없음\\n권장학습시간:0분\\n\\r\\n\\t\\t\\t\\t\\t\\t\\t\\t\\t\\t\\t\\t\\t\\t\\t학습시간(중/후):0초/0초\\r\\n\\t\\t\\t\\t\\t\\t\\t\\t\\t\\t\\t\\t\\t\\t\\n \\n \\n \\n\\n\\n\\n\\n댓글(0)\\nfile_LES_1809051059304df26c60Development Tools in Linux/Unix\\n기간:기간없음\\n권장학습시간:0분\\n\\r\\n\\t\\t\\t\\t\\t\\t\\t\\t\\t\\t\\t\\t\\t\\t\\t학습시간(중/후):0초/0초\\r\\n\\t\\t\\t\\t\\t\\t\\t\\t\\t\\t\\t\\t\\t\\t\\n \\n \\n \\n\\n\\n\\n\\n\\n댓글(0)lsp-03-tool.pdf\\nfile_LES_1809051059304df26c45\\n../common/downloadFile.do?fileId=FIL_1809051059304df26c71',\n",
       " 'Quick Introduction to C\\n기간:기간없음\\n권장학습시간:0분\\n\\r\\n\\t\\t\\t\\t\\t\\t\\t\\t\\t\\t\\t\\t\\t\\t\\t학습시간(중/후):0초/0초\\r\\n\\t\\t\\t\\t\\t\\t\\t\\t\\t\\t\\t\\t\\t\\t\\n \\n \\n \\n\\n\\n\\n\\n\\n댓글(0)lsp-04-c.pdf\\nfile_LES_1809051059304df26c48\\n../common/downloadFile.do?fileId=FIL_1809051059304df26c73',\n",
       " 'File I/O\\n기간:기간없음\\n권장학습시간:0분\\n\\r\\n\\t\\t\\t\\t\\t\\t\\t\\t\\t\\t\\t\\t\\t\\t\\t학습시간(중/후):0초/0초\\r\\n\\t\\t\\t\\t\\t\\t\\t\\t\\t\\t\\t\\t\\t\\t\\n \\n \\n \\n\\n\\n\\n\\n\\n댓글(0)lsp-05-file-io.pdf\\nfile_LES_1809051059304df26c4b\\n../common/downloadFile.do?fileId=FIL_1809051059304df26c75',\n",
       " 'Files & Directories\\n기간:기간없음\\n권장학습시간:0분\\n\\r\\n\\t\\t\\t\\t\\t\\t\\t\\t\\t\\t\\t\\t\\t\\t\\t학습시간(중/후):0초/0초\\r\\n\\t\\t\\t\\t\\t\\t\\t\\t\\t\\t\\t\\t\\t\\t\\n \\n \\n \\n\\n\\n\\n\\n\\n댓글(0)lsp-06-file-dir.pdf\\nfile_LES_1809051059304df26c4e\\n../common/downloadFile.do?fileId=FIL_1809051059304df26c77',\n",
       " 'Peocesses & Threads\\n기간:기간없음\\n권장학습시간:0분\\n\\r\\n\\t\\t\\t\\t\\t\\t\\t\\t\\t\\t\\t\\t\\t\\t\\t학습시간(중/후):0초/0초\\r\\n\\t\\t\\t\\t\\t\\t\\t\\t\\t\\t\\t\\t\\t\\t\\n \\n \\n \\n\\n\\n\\n\\n\\n댓글(0)lsp-07-process.pdf\\nfile_LES_1809051059304df26c51\\n../common/downloadFile.do?fileId=FIL_1809051059304df26c79',\n",
       " 'Signals\\n기간:기간없음\\n권장학습시간:0분\\n\\r\\n\\t\\t\\t\\t\\t\\t\\t\\t\\t\\t\\t\\t\\t\\t\\t학습시간(중/후):0초/0초\\r\\n\\t\\t\\t\\t\\t\\t\\t\\t\\t\\t\\t\\t\\t\\t\\n \\n \\n \\n\\n\\n\\n\\n\\n댓글(0)lsp-08-signal.pdf\\nfile_LES_1809051059304df26c54\\n../common/downloadFile.do?fileId=FIL_1809051059304df26c7b',\n",
       " 'Inter-Process Communication\\n기간:기간없음\\n권장학습시간:0분\\n\\r\\n\\t\\t\\t\\t\\t\\t\\t\\t\\t\\t\\t\\t\\t\\t\\t학습시간(중/후):0초/0초\\r\\n\\t\\t\\t\\t\\t\\t\\t\\t\\t\\t\\t\\t\\t\\t\\n \\n \\n \\n\\n\\n\\n\\n댓글(0)\\nfile_LES_1809051059304df26c63Inter-Process Communication\\n기간:기간없음\\n권장학습시간:0분\\n\\r\\n\\t\\t\\t\\t\\t\\t\\t\\t\\t\\t\\t\\t\\t\\t\\t학습시간(중/후):0초/0초\\r\\n\\t\\t\\t\\t\\t\\t\\t\\t\\t\\t\\t\\t\\t\\t\\n \\n \\n \\n\\n\\n\\n\\n\\n댓글(0)lsp-09-ipc.pdf\\nfile_LES_1809051059304df26c57\\n../common/downloadFile.do?fileId=FIL_1809051059304df26c7d',\n",
       " 'Synchronization\\n기간:기간없음\\n권장학습시간:0분\\n\\r\\n\\t\\t\\t\\t\\t\\t\\t\\t\\t\\t\\t\\t\\t\\t\\t학습시간(중/후):0초/0초\\r\\n\\t\\t\\t\\t\\t\\t\\t\\t\\t\\t\\t\\t\\t\\t\\n \\n \\n \\n\\n\\n\\n\\n댓글(0)\\nfile_LES_1809051059304df26c66Synchronization\\n기간:기간없음\\n권장학습시간:0분\\n\\r\\n\\t\\t\\t\\t\\t\\t\\t\\t\\t\\t\\t\\t\\t\\t\\t학습시간(중/후):0초/0초\\r\\n\\t\\t\\t\\t\\t\\t\\t\\t\\t\\t\\t\\t\\t\\t\\n \\n \\n \\n\\n\\n\\n\\n\\n댓글(0)lsp-10-sync.pdf\\nfile_LES_1809051059304df26c5a\\n../common/downloadFile.do?fileId=FIL_1809051059304df26c7f',\n",
       " 'Sockets\\n기간:기간없음\\n권장학습시간:0분\\n\\r\\n\\t\\t\\t\\t\\t\\t\\t\\t\\t\\t\\t\\t\\t\\t\\t학습시간(중/후):0초/0초\\r\\n\\t\\t\\t\\t\\t\\t\\t\\t\\t\\t\\t\\t\\t\\t\\n \\n \\n \\n\\n\\n\\n\\n\\n댓글(0)lsp-11-socket.pdf\\nfile_LES_1809051059304df26c5d\\n../common/downloadFile.do?fileId=FIL_1809051059304df26c81',\n",
       " 'Sockets\\n기간:기간없음\\n권장학습시간:0분\\n\\r\\n\\t\\t\\t\\t\\t\\t\\t\\t\\t\\t\\t\\t\\t\\t\\t학습시간(중/후):0초/0초\\r\\n\\t\\t\\t\\t\\t\\t\\t\\t\\t\\t\\t\\t\\t\\t\\n \\n \\n \\n\\n\\n\\n\\n댓글(0)\\nfile_LES_1809051059304df26c69미분방정식\\n기간:2018.09.03 - 2018.10.20\\n※등록된 강의동영상이 없습니다.\\n\\n\\n\\n\\n\\n댓글(0)2018_미분방정식_1장.pdf\\nfile_LES_180904115535feb16d66\\n../common/downloadFile.do?fileId=FIL_180904115601feb16d71',\n",
       " '미분방정식\\n기간:2018.09.03 - 2018.10.20\\n※등록된 강의동영상이 없습니다.\\n\\n\\n\\n\\n\\n댓글(0)2018_미분방정식_2장.pdf\\nfile_LES_180904115608feb16d79\\n../common/downloadFile.do?fileId=FIL_180904115631feb16d83',\n",
       " '1-intro\\n기간:기간없음\\n※등록된 강의동영상이 없습니다.\\n\\n\\n\\n\\n\\n댓글(0)CSE437_1-intro.pptx\\nfile_LES_180905194202231d3856\\n../common/downloadFile.do?fileId=FIL_180905194233231d3860',\n",
       " '2-\\n기간:기간없음\\n※등록된 강의동영상이 없습니다.\\n\\n\\n\\n\\n\\n댓글(0)CSE437_2-Raspberrypi_Raspbian.pptx\\nfile_LES_180912223700896e2dbc\\n../common/downloadFile.do?fileId=FIL_180912223751896e2df4',\n",
       " '3,4,\\n기간:기간없음\\n※등록된 강의동영상이 없습니다.\\n\\n\\n\\n\\n\\n댓글(0)CSE437_3-Raspberrypi_with_python(LED).pptxCSE437_4-Raspberrypi_with_python(KeyPad_hlr).pptx\\nfile_LES_1809192051293a4417b3\\n../common/downloadFile.do?fileId=FIL_1809192051473a4417c5',\n",
       " '강의자료\\n기간:기간없음\\n※등록된 강의동영상이 없습니다.\\n\\n\\n\\n\\n\\n댓글(0)컴퓨터구조.ppt\\nfile_LES_180903180958a5b23d45\\n../common/downloadFile.do?fileId=FIL_180903180958a5b23d49']"
      ]
     },
     "execution_count": 22,
     "metadata": {},
     "output_type": "execute_result"
    }
   ],
   "source": [
    "online_list"
   ]
  },
  {
   "cell_type": "code",
   "execution_count": 23,
   "metadata": {},
   "outputs": [
    {
     "data": {
      "text/plain": [
       "['Reading Assignment #2: Virtualizatoin\\n기간:2018.09.07 08:00 - 2018.12.31 23:50\\n제출 완료\\nfile_LES_180907074240c7d164fb',\n",
       " 'Reading Assignment\\n기간:2018.09.03 21:00 - 2018.12.24 21:00\\n제출 완료\\nfile_LES_180903214443a5b24d61',\n",
       " 'Assignment 1: Basic Concepts\\n기간:2018.09.16 18:00 - 2018.09.26 16:50\\n미제출\\nfile_LES_1809161829412cbc78be',\n",
       " 'Reading Assignment #3\\n기간:2018.09.10 00:00 - 2018.12.26 00:00\\n미제출\\nfile_LES_180910235801a92c236b',\n",
       " 'Reading Assignment #4\\n기간:2018.09.12 20:50 - 2018.12.24 20:50\\n미제출\\nfile_LES_180912204620896e14e9']"
      ]
     },
     "execution_count": 23,
     "metadata": {},
     "output_type": "execute_result"
    }
   ],
   "source": [
    "result_list"
   ]
  },
  {
   "cell_type": "code",
   "execution_count": null,
   "metadata": {},
   "outputs": [],
   "source": []
  }
 ],
 "metadata": {
  "kernelspec": {
   "display_name": "Python 3",
   "language": "python",
   "name": "python3"
  },
  "language_info": {
   "codemirror_mode": {
    "name": "ipython",
    "version": 3
   },
   "file_extension": ".py",
   "mimetype": "text/x-python",
   "name": "python",
   "nbconvert_exporter": "python",
   "pygments_lexer": "ipython3",
   "version": "3.6.5"
  },
  "toc": {
   "base_numbering": 1,
   "nav_menu": {},
   "number_sections": true,
   "sideBar": true,
   "skip_h1_title": false,
   "title_cell": "Table of Contents",
   "title_sidebar": "Contents",
   "toc_cell": false,
   "toc_position": {},
   "toc_section_display": true,
   "toc_window_display": false
  },
  "varInspector": {
   "cols": {
    "lenName": 16,
    "lenType": 16,
    "lenVar": 40
   },
   "kernels_config": {
    "python": {
     "delete_cmd_postfix": "",
     "delete_cmd_prefix": "del ",
     "library": "var_list.py",
     "varRefreshCmd": "print(var_dic_list())"
    },
    "r": {
     "delete_cmd_postfix": ") ",
     "delete_cmd_prefix": "rm(",
     "library": "var_list.r",
     "varRefreshCmd": "cat(var_dic_list()) "
    }
   },
   "types_to_exclude": [
    "module",
    "function",
    "builtin_function_or_method",
    "instance",
    "_Feature"
   ],
   "window_display": false
  }
 },
 "nbformat": 4,
 "nbformat_minor": 2
}
