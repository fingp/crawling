{
 "cells": [
  {
   "cell_type": "code",
   "execution_count": null,
   "metadata": {},
   "outputs": [],
   "source": [
    "class_list=['SWCON22100',\n",
    " 'CSE33200',\n",
    " 'AMTH100112',\n",
    " 'SWCON30200',\n",
    " 'CSE43700',\n",
    " 'CSE40609',\n",
    " 'CSE20302']"
   ]
  },
  {
   "cell_type": "code",
   "execution_count": null,
   "metadata": {},
   "outputs": [],
   "source": [
    "import time\n",
    "import requests"
   ]
  },
  {
   "cell_type": "code",
   "execution_count": null,
   "metadata": {},
   "outputs": [],
   "source": [
    "from bs4 import BeautifulSoup\n",
    "import pandas as pd\n",
    "\n",
    "import numpy as np\n"
   ]
  },
  {
   "cell_type": "code",
   "execution_count": null,
   "metadata": {
    "scrolled": false
   },
   "outputs": [],
   "source": [
    "id_=input(\"id : \")\n",
    "pw_=input(\"pw : \")"
   ]
  },
  {
   "cell_type": "code",
   "execution_count": null,
   "metadata": {},
   "outputs": [],
   "source": [
    "LOGIN_INFO = {\n",
    "    'USER_ID' : id_,\n",
    "    'PASSWORD':pw_\n",
    "        }"
   ]
  },
  {
   "cell_type": "code",
   "execution_count": null,
   "metadata": {},
   "outputs": [],
   "source": [
    "temp=np.char.array('https://klas.khu.ac.kr/course/viewCourseClassroom.do?COURSE_ID=2018_20_')\n",
    "class_arr=np.array(class_list)\n",
    "class_link=temp+class_arr"
   ]
  },
  {
   "cell_type": "code",
   "execution_count": null,
   "metadata": {},
   "outputs": [],
   "source": [
    "class_link"
   ]
  },
  {
   "cell_type": "code",
   "execution_count": null,
   "metadata": {},
   "outputs": [],
   "source": [
    "with requests.Session() as s:\n",
    "    login_req = s.post('https://klas.khu.ac.kr/user/loginUser.do', data=LOGIN_INFO)\n",
    "    # 어떤 결과가 나올까요? (200이면 성공!)\n",
    "    print(login_req.status_code)\n",
    "    if login_req.status_code != 200:\n",
    "        raise Exception('로그인이 되지 않았어요! 아이디와 비밀번호를 다시한번 확인해 주세요.')\n",
    "    result_list=[]\n",
    "    online_list=[]\n",
    "    start_time = time.time() \n",
    "    for i in class_link:\n",
    "        req = s.get(i)\n",
    "        html = req.text\n",
    "        soup = BeautifulSoup(html,'html.parser')\n",
    "    \n",
    "        class_name=soup.find('div',attrs={'class','lf'}).text.strip()\n",
    "    \n",
    "        temp_str=class_name+'\\n'\n",
    "        temp_str2=class_name+'\\n'\n",
    "        for th in soup.find_all('div',attrs={'class':'mycl_cont_info'}):\n",
    "            if th.find('div',attrs={'class':'mycl_cont_top'}).text.strip() == \"과제\" :\n",
    "                for temp in th.find_all('div',attrs={'class':['mycl_cont_mid','mycl_cont_bot']}) :\n",
    "                    temp_str+=temp.text.strip()\n",
    "                    if(temp.select('div')[0].has_attr('id')) :\n",
    "                        temp_str+='\\n'+temp.select('div')[0]['id']\n",
    "                        result_list.append(temp_str)\n",
    "                        temp_str=class_name+'\\n'\n",
    "                        \n",
    "            elif th.find('div',attrs={'class':'mycl_cont_top'}).text.strip() == \"강의자료\" : \n",
    "                for temp in th.find_all('div',attrs={'class':['mycl_cont_mid','mycl_cont_bot']}) :\n",
    "                    temp_str2+=temp.text.strip()\n",
    "                    if(temp.select('div')[0].has_attr('id')) :\n",
    "                        temp_str2+='\\n'+temp.select('div')[0]['id']\n",
    "                        if (temp.select('div')[0].find('a')) :\n",
    "                            temp_str2+='\\n'+'https://klas.khu.ac.kr'+temp.select('div')[0].find('a').attrs['href']    \n",
    "                        else :\n",
    "                            temp_str2+='\\n'+'no_files'\n",
    "                        online_list.append(temp_str2)\n",
    "                        temp_str2=class_name+'\\n'\n",
    "                        \n",
    "    print(\"--- %s seconds ---\" %(time.time() - start_time))"
   ]
  },
  {
   "cell_type": "code",
   "execution_count": null,
   "metadata": {},
   "outputs": [],
   "source": []
  },
  {
   "cell_type": "code",
   "execution_count": null,
   "metadata": {},
   "outputs": [],
   "source": [
    "res=[]\n",
    "for work in result_list:\n",
    "    temp=[x for x in work.split('\\n') if x]\n",
    "    if temp[3]==\"제출 완료\" :\n",
    "        temp.append(1)\n",
    "    else :\n",
    "        temp.append(0)\n",
    "    temp_dict={\n",
    "        \"workType\" : \"0\",\n",
    "        \"workCode\" : temp[4],\n",
    "        \"workCourse\" : temp[0],\n",
    "        \"workTitle\" : temp[1],\n",
    "        \"workTime\" : temp[2],\n",
    "        \"isSubmit\" : temp[5],\n",
    "        \"workFile\" : \"[*]no_file\"\n",
    "    }\n",
    "    res.append(temp_dict)"
   ]
  },
  {
   "cell_type": "code",
   "execution_count": null,
   "metadata": {
    "scrolled": true
   },
   "outputs": [],
   "source": [
    "for online in online_list:\n",
    "    temp=[x for x in online.split('\\n') if x]    \n",
    "    if len(temp) == 7 :\n",
    "        temp_dict={\n",
    "            \"workType\" : \"2\",#2강의자료\n",
    "            \"workCode\" : temp[5],\n",
    "            \"workCourse\" : temp[0],\n",
    "            \"workTitle\" : temp[1],\n",
    "            \"workTime\" : temp[2],\n",
    "            \"isSubmit\" : \"1\",#강의자료는 다 제출\n",
    "            \"workFile\" : temp[4].split(')')[1]+\"[*]\"+temp[6]\n",
    "            }\n",
    "        res.append(temp_dict)    \n",
    "    elif len(temp) == 13 :\n",
    "        ing_time=temp[5].split(':')[1].split('/')[0]\n",
    "        watch_time=0\n",
    "        if \"분\" in ing_time :\n",
    "            watch_time+=int(ing_time.split(\"분\")[0])*60\n",
    "        else : \n",
    "            watch_time+=int(ing_time.split(\"초\")[0]) \n",
    "        course_time=int(temp[3].split(':')[1].split(\"분\")[0])*60\n",
    "        if watch_time>course_time :\n",
    "            flag=1\n",
    "        else:\n",
    "            flag=0\n",
    "        temp_dict={\n",
    "            \"workType\" : \"1\",#1인강\n",
    "            \"workCode\" : temp[11],\n",
    "            \"workCourse\" : temp[0],\n",
    "            \"workTitle\" : temp[1],\n",
    "            \"workTime\" : temp[2],\n",
    "            \"isSubmit\" : flag,#강의자료는 다 제출\n",
    "            \"workFile\" : temp[10].split(')')[1]+\"[*]\"+temp[12]\n",
    "            }\n",
    "        res.append(temp_dict)    \n",
    "    else :\n",
    "        print('ERROR')"
   ]
  },
  {
   "cell_type": "code",
   "execution_count": null,
   "metadata": {},
   "outputs": [],
   "source": []
  }
 ],
 "metadata": {
  "kernelspec": {
   "display_name": "Python 3",
   "language": "python",
   "name": "python3"
  },
  "language_info": {
   "codemirror_mode": {
    "name": "ipython",
    "version": 3
   },
   "file_extension": ".py",
   "mimetype": "text/x-python",
   "name": "python",
   "nbconvert_exporter": "python",
   "pygments_lexer": "ipython3",
   "version": "3.6.5"
  },
  "toc": {
   "base_numbering": 1,
   "nav_menu": {},
   "number_sections": true,
   "sideBar": true,
   "skip_h1_title": false,
   "title_cell": "Table of Contents",
   "title_sidebar": "Contents",
   "toc_cell": false,
   "toc_position": {},
   "toc_section_display": true,
   "toc_window_display": false
  },
  "varInspector": {
   "cols": {
    "lenName": 16,
    "lenType": 16,
    "lenVar": 40
   },
   "kernels_config": {
    "python": {
     "delete_cmd_postfix": "",
     "delete_cmd_prefix": "del ",
     "library": "var_list.py",
     "varRefreshCmd": "print(var_dic_list())"
    },
    "r": {
     "delete_cmd_postfix": ") ",
     "delete_cmd_prefix": "rm(",
     "library": "var_list.r",
     "varRefreshCmd": "cat(var_dic_list()) "
    }
   },
   "types_to_exclude": [
    "module",
    "function",
    "builtin_function_or_method",
    "instance",
    "_Feature"
   ],
   "window_display": false
  }
 },
 "nbformat": 4,
 "nbformat_minor": 2
}
